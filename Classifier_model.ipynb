{
 "cells": [
  {
   "cell_type": "code",
   "execution_count": 1,
   "id": "a754dc12",
   "metadata": {},
   "outputs": [
    {
     "name": "stdout",
     "output_type": "stream",
     "text": [
      "Looking in indexes: https://download.pytorch.org/whl/cu118\n",
      "Collecting torch\n",
      "  Downloading https://download.pytorch.org/whl/cu118/torch-2.0.0%2Bcu118-cp310-cp310-win_amd64.whl (2611.3 MB)\n",
      "     ---------------------------------------- 2.6/2.6 GB ? eta 0:00:00\n"
     ]
    },
    {
     "name": "stderr",
     "output_type": "stream",
     "text": [
      "ERROR: Could not install packages due to an OSError: [Errno 2] No such file or directory: 'C:\\\\Users\\\\HP\\\\AppData\\\\Local\\\\Temp\\\\pip-build-tracker-ypqqbgks\\\\a97f51e74cdbb496ac7ca2576486ad8af82c920f316c6c8b89610539'\n",
      "\n",
      "WARNING: There was an error checking the latest version of pip.\n"
     ]
    }
   ],
   "source": [
    "!pip3 install torch torchvision torchaudio --index-url https://download.pytorch.org/whl/cu118"
   ]
  },
  {
   "cell_type": "code",
   "execution_count": 2,
   "id": "c6227d71",
   "metadata": {},
   "outputs": [
    {
     "name": "stderr",
     "output_type": "stream",
     "text": [
      "Cloning into 'yolov5'...\n"
     ]
    }
   ],
   "source": [
    "!git clone https://github.com/ultralytics/yolov5"
   ]
  },
  {
   "cell_type": "code",
   "execution_count": 5,
   "id": "96691ced",
   "metadata": {},
   "outputs": [
    {
     "name": "stdout",
     "output_type": "stream",
     "text": [
      "Collecting gitpython>=3.1.30 (from -r requirements.txt (line 5))\n",
      "  Downloading GitPython-3.1.31-py3-none-any.whl (184 kB)\n",
      "     -------------------------------------- 184.3/184.3 kB 1.4 MB/s eta 0:00:00\n",
      "Requirement already satisfied: matplotlib>=3.3 in c:\\python\\lib\\site-packages (from -r requirements.txt (line 6)) (3.5.1)\n",
      "Requirement already satisfied: numpy>=1.18.5 in c:\\python\\lib\\site-packages (from -r requirements.txt (line 7)) (1.22.2)\n",
      "Requirement already satisfied: opencv-python>=4.1.1 in c:\\python\\lib\\site-packages (from -r requirements.txt (line 8)) (4.6.0.66)\n",
      "Requirement already satisfied: Pillow>=7.1.2 in c:\\python\\lib\\site-packages (from -r requirements.txt (line 9)) (9.0.1)\n",
      "Requirement already satisfied: psutil in c:\\python\\lib\\site-packages (from -r requirements.txt (line 10)) (5.9.3)\n",
      "Requirement already satisfied: PyYAML>=5.3.1 in c:\\python\\lib\\site-packages (from -r requirements.txt (line 11)) (5.4.1)\n",
      "Requirement already satisfied: requests>=2.23.0 in c:\\python\\lib\\site-packages (from -r requirements.txt (line 12)) (2.28.1)\n",
      "Requirement already satisfied: scipy>=1.4.1 in c:\\python\\lib\\site-packages (from -r requirements.txt (line 13)) (1.9.3)\n",
      "Collecting thop>=0.1.1 (from -r requirements.txt (line 14))\n",
      "  Downloading thop-0.1.1.post2209072238-py3-none-any.whl (15 kB)\n",
      "Requirement already satisfied: torch>=1.7.0 in c:\\python\\lib\\site-packages (from -r requirements.txt (line 15)) (2.0.1+cu117)\n",
      "Requirement already satisfied: torchvision>=0.8.1 in c:\\python\\lib\\site-packages (from -r requirements.txt (line 16)) (0.15.2+cu117)\n",
      "Requirement already satisfied: tqdm>=4.64.0 in c:\\python\\lib\\site-packages (from -r requirements.txt (line 17)) (4.64.1)\n",
      "Requirement already satisfied: pandas>=1.1.4 in c:\\python\\lib\\site-packages (from -r requirements.txt (line 26)) (1.5.1)\n",
      "Requirement already satisfied: seaborn>=0.11.0 in c:\\python\\lib\\site-packages (from -r requirements.txt (line 27)) (0.12.1)\n",
      "Collecting setuptools>=65.5.1 (from -r requirements.txt (line 41))\n",
      "  Downloading setuptools-67.7.2-py3-none-any.whl (1.1 MB)\n",
      "     ---------------------------------------- 1.1/1.1 MB 2.2 MB/s eta 0:00:00\n",
      "Collecting gitdb<5,>=4.0.1 (from gitpython>=3.1.30->-r requirements.txt (line 5))\n",
      "  Downloading gitdb-4.0.10-py3-none-any.whl (62 kB)\n",
      "     ---------------------------------------- 62.7/62.7 kB ? eta 0:00:00\n",
      "Requirement already satisfied: cycler>=0.10 in c:\\python\\lib\\site-packages (from matplotlib>=3.3->-r requirements.txt (line 6)) (0.10.0)\n",
      "Requirement already satisfied: fonttools>=4.22.0 in c:\\python\\lib\\site-packages (from matplotlib>=3.3->-r requirements.txt (line 6)) (4.29.1)\n",
      "Requirement already satisfied: kiwisolver>=1.0.1 in c:\\python\\lib\\site-packages (from matplotlib>=3.3->-r requirements.txt (line 6)) (1.3.2)\n",
      "Requirement already satisfied: packaging>=20.0 in c:\\python\\lib\\site-packages (from matplotlib>=3.3->-r requirements.txt (line 6)) (21.3)\n",
      "Requirement already satisfied: pyparsing>=2.2.1 in c:\\python\\lib\\site-packages (from matplotlib>=3.3->-r requirements.txt (line 6)) (2.4.7)\n",
      "Requirement already satisfied: python-dateutil>=2.7 in c:\\python\\lib\\site-packages (from matplotlib>=3.3->-r requirements.txt (line 6)) (2.8.2)\n",
      "Requirement already satisfied: charset-normalizer<3,>=2 in c:\\python\\lib\\site-packages (from requests>=2.23.0->-r requirements.txt (line 12)) (2.1.1)\n",
      "Requirement already satisfied: idna<4,>=2.5 in c:\\python\\lib\\site-packages (from requests>=2.23.0->-r requirements.txt (line 12)) (2.10)\n",
      "Requirement already satisfied: urllib3<1.27,>=1.21.1 in c:\\python\\lib\\site-packages (from requests>=2.23.0->-r requirements.txt (line 12)) (1.26.6)\n",
      "Requirement already satisfied: certifi>=2017.4.17 in c:\\python\\lib\\site-packages (from requests>=2.23.0->-r requirements.txt (line 12)) (2021.5.30)\n",
      "Requirement already satisfied: filelock in c:\\python\\lib\\site-packages (from torch>=1.7.0->-r requirements.txt (line 15)) (3.9.0)\n",
      "Requirement already satisfied: typing-extensions in c:\\python\\lib\\site-packages (from torch>=1.7.0->-r requirements.txt (line 15)) (4.4.0)\n",
      "Requirement already satisfied: sympy in c:\\python\\lib\\site-packages (from torch>=1.7.0->-r requirements.txt (line 15)) (1.11.1)\n",
      "Requirement already satisfied: networkx in c:\\python\\lib\\site-packages (from torch>=1.7.0->-r requirements.txt (line 15)) (3.0)\n",
      "Requirement already satisfied: jinja2 in c:\\python\\lib\\site-packages (from torch>=1.7.0->-r requirements.txt (line 15)) (3.1.2)\n",
      "Requirement already satisfied: colorama in c:\\python\\lib\\site-packages (from tqdm>=4.64.0->-r requirements.txt (line 17)) (0.4.5)\n",
      "Requirement already satisfied: pytz>=2020.1 in c:\\python\\lib\\site-packages (from pandas>=1.1.4->-r requirements.txt (line 26)) (2022.6)\n",
      "Requirement already satisfied: six in c:\\python\\lib\\site-packages (from cycler>=0.10->matplotlib>=3.3->-r requirements.txt (line 6)) (1.16.0)\n",
      "Collecting smmap<6,>=3.0.1 (from gitdb<5,>=4.0.1->gitpython>=3.1.30->-r requirements.txt (line 5))\n",
      "  Downloading smmap-5.0.0-py3-none-any.whl (24 kB)\n",
      "Requirement already satisfied: MarkupSafe>=2.0 in c:\\python\\lib\\site-packages (from jinja2->torch>=1.7.0->-r requirements.txt (line 15)) (2.1.1)\n",
      "Requirement already satisfied: mpmath>=0.19 in c:\\python\\lib\\site-packages (from sympy->torch>=1.7.0->-r requirements.txt (line 15)) (1.2.1)\n",
      "Installing collected packages: smmap, setuptools, gitdb, thop, gitpython\n",
      "  Attempting uninstall: setuptools\n",
      "    Found existing installation: setuptools 58.1.0\n",
      "    Uninstalling setuptools-58.1.0:\n",
      "      Successfully uninstalled setuptools-58.1.0\n",
      "Successfully installed gitdb-4.0.10 gitpython-3.1.31 setuptools-67.7.2 smmap-5.0.0 thop-0.1.1.post2209072238\n"
     ]
    }
   ],
   "source": [
    "!cd yolov5 & pip install -r requirements.txt"
   ]
  },
  {
   "cell_type": "code",
   "execution_count": 7,
   "id": "1e843767",
   "metadata": {},
   "outputs": [],
   "source": [
    "import torch \n",
    "import matplotlib.pyplot as plt\n",
    "import numpy as np\n",
    "import cv2"
   ]
  },
  {
   "cell_type": "code",
   "execution_count": null,
   "id": "4dabd34a",
   "metadata": {},
   "outputs": [],
   "source": []
  }
 ],
 "metadata": {
  "kernelspec": {
   "display_name": "Python 3 (ipykernel)",
   "language": "python",
   "name": "python3"
  },
  "language_info": {
   "codemirror_mode": {
    "name": "ipython",
    "version": 3
   },
   "file_extension": ".py",
   "mimetype": "text/x-python",
   "name": "python",
   "nbconvert_exporter": "python",
   "pygments_lexer": "ipython3",
   "version": "3.10.2"
  }
 },
 "nbformat": 4,
 "nbformat_minor": 5
}
